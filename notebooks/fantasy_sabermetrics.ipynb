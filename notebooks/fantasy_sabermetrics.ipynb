{
 "cells": [
  {
   "cell_type": "markdown",
   "id": "1166a80e",
   "metadata": {},
   "source": [
    "# Fantasy Football Sabermetrics Notebook for Advanced Analytics and Statistical Metrics \n",
    "This notebook is for loading full league standings into a DataFrame for the purpose of performing exploratory data analysis. Hopefully you can gain many insights from your analysis and utilize your sabermetrics and advanced metrics to show other people how smart you are. If you are dumb and/or don't beleive in advanced analytics and stats please do not use this notebook. "
   ]
  },
  {
   "cell_type": "code",
   "execution_count": 40,
   "id": "5047294b",
   "metadata": {},
   "outputs": [],
   "source": [
    "import sys\n",
    "import logging\n",
    "import pandas as pd\n",
    "sys.path.insert(0, \"C:/Users/student/PycharmProjects/virginia-rowing-fantasy/src\") \n",
    "from fantasy import *\n",
    "logging.getLogger(\"yfpy.query\").setLevel(logging.WARNING)\n",
    "pd.options.mode.chained_assignment = None  # default='warn'"
   ]
  },
  {
   "cell_type": "code",
   "execution_count": 2,
   "id": "df58331a",
   "metadata": {},
   "outputs": [
    {
     "name": "stdout",
     "output_type": "stream",
     "text": [
      "Getting Fantasy Standings!\n",
      "Retreived standings for 6 U Court\n",
      "Retreived standings for Champions\n",
      "Retreived standings for Stump Field\n",
      "Retreived standings for Orange and Blue\n",
      "Retreived standings for Masters 1k\n",
      "Retreived standings for Eight\n",
      "Retreived standings for Crank City\n",
      "Retreived standings for Barn Szn Pass\n",
      "Standings DataFrames created!\n",
      "Output current standings to standings_week17.csv\n",
      "Output current standings to complete_standings_week17.csv\n"
     ]
    }
   ],
   "source": [
    "fantasy = FantasyStandings(current_week=17, credentials_path=\"../credentials\")\n",
    "fantasy.get_standings(output_dir=\"../output/\")\n",
    "df = fantasy.complete_standings"
   ]
  },
  {
   "cell_type": "markdown",
   "id": "fc78e9dc",
   "metadata": {},
   "source": [
    "### A few fun ones to get you started"
   ]
  },
  {
   "cell_type": "code",
   "execution_count": 18,
   "id": "7502b29d",
   "metadata": {},
   "outputs": [
    {
     "name": "stdout",
     "output_type": "stream",
     "text": [
      "Biggest winners\n",
      "-------------------------------------------------------------------------------------\n",
      "                   Team Name           League  League Rank  Point Differential\n",
      "8               Frenzied Zen            Eight            3              358.02\n",
      "2                   Pointers  Orange and Blue            2              349.92\n",
      "1                Coronaboner       Crank City            4              335.04\n",
      "6        Adrian Beat his Son    Barn Szn Pass            3              283.08\n",
      "11               Adam's Team       Masters 1k            4              273.80\n",
      "60        Rick made me do it        Champions            1              235.76\n",
      "22                Big Sister  Orange and Blue            1              234.92\n",
      "13                   My Team      Stump Field            4              227.30\n",
      "20  Sixually Transmitted TDs    Barn Szn Pass            1              226.52\n",
      "23            The Beez Knees            Eight            2              224.44\n",
      "\n",
      "\n",
      "\n",
      "Biggest losers\n",
      "--------------------------------------------------------------------------------------\n",
      "                   Team Name           League  League Rank  Point Differential\n",
      "73         Is This Thing On?            Eight            9             -241.70\n",
      "80            Hoo's A Winner        Champions            9             -251.20\n",
      "68      To the Moon and Back  Orange and Blue            8             -253.38\n",
      "78                   Goonies        Champions           10             -312.84\n",
      "76        Tom Brady's Guilty  Orange and Blue           10             -336.98\n",
      "75          Team Ranch Water    Barn Szn Pass           10             -350.72\n",
      "66  Not Shampoo Goblin (RIP)    Barn Szn Pass            9             -352.38\n",
      "77                 MM's Team       Masters 1k           10             -422.16\n",
      "79       Bruiser's Best Team            Eight           10             -491.68\n",
      "74         The Brown Special      Stump Field           10             -516.18\n"
     ]
    }
   ],
   "source": [
    "point_diff = df[[\"Team Name\", \"League\", \"League Rank\", \"Point Differential\"]]\n",
    "point_diff = point_diff.sort_values(by=[\"Point Differential\"], ascending=False)\n",
    "print(\"Biggest winners\\n-------------------------------------------------------------------------------------\")\n",
    "print(point_diff.head(10))\n",
    "print(\"\\n\\n\\nBiggest losers\\n--------------------------------------------------------------------------------------\")\n",
    "print(point_diff.tail(10))"
   ]
  },
  {
   "cell_type": "code",
   "execution_count": 33,
   "id": "df4b22f1",
   "metadata": {},
   "outputs": [
    {
     "name": "stdout",
     "output_type": "stream",
     "text": [
      "Luckiest\n",
      "-------------------------------------------------------------------------------------\n",
      "              Team Name           League  League Rank  Points Against\n",
      "8          Frenzied Zen            Eight            3         1225.66\n",
      "52       Allen's eleven            Eight            6         1254.82\n",
      "59     Wild Desert Pigs            Eight            7         1267.40\n",
      "23       The Beez Knees            Eight            2         1272.26\n",
      "40            The Swarm            Eight            4         1272.86\n",
      "2              Pointers  Orange and Blue            2         1279.40\n",
      "31   Erin's Expert Team       Masters 1k            2         1279.78\n",
      "22           Big Sister  Orange and Blue            1         1281.18\n",
      "65   Old as Wooden Oars  Orange and Blue            7         1295.66\n",
      "37  Pus-Oozing Blisters       Masters 1k            1         1296.50\n",
      "\n",
      "\n",
      "\n",
      "Unluckiest\n",
      "--------------------------------------------------------------------------------------\n",
      "                    Team Name           League  League Rank  Points Against\n",
      "55           Crew House South       Crank City            9         1534.64\n",
      "53  Pork the Other White Meat        6 U Court           10         1535.46\n",
      "41             I Deserve This       Crank City            5         1551.38\n",
      "39           Ninja Wartortles       Crank City            6         1553.94\n",
      "66   Not Shampoo Goblin (RIP)    Barn Szn Pass            9         1554.20\n",
      "5             Big Meaty Claws        6 U Court            6         1566.74\n",
      "14             Sleep Deprived  Orange and Blue            3         1570.04\n",
      "27       Decker?Hardly Kno'er       Crank City           10         1580.30\n",
      "32            Duck Duck Eagle        6 U Court            5         1619.10\n",
      "74          The Brown Special      Stump Field           10         1621.70\n"
     ]
    }
   ],
   "source": [
    "pa = df[[\"Team Name\", \"League\", \"League Rank\", \"Points Against\"]]\n",
    "pa = pa[pa[\"League\"] != \"Champions\"] # Champions played one fewer game than the rest of the leagues so their points against are deceivingly low\n",
    "pa = pa.sort_values(by=[\"Points Against\"])\n",
    "print(\"Luckiest\\n-------------------------------------------------------------------------------------\")\n",
    "print(pa.head(10))\n",
    "print(\"\\n\\n\\nUnluckiest\\n--------------------------------------------------------------------------------------\")\n",
    "print(pa.tail(10))"
   ]
  },
  {
   "cell_type": "code",
   "execution_count": 42,
   "id": "c19de092",
   "metadata": {},
   "outputs": [
    {
     "name": "stdout",
     "output_type": "stream",
     "text": [
      "People with the 1st draft pick finished with an average league position of 5.625 out of 10 and an overall rank of 43.25 out of 80\n",
      "People with the 2nd draft pick finished with an average league position of 7.125 out of 10 and an overall rank of 49.25 out of 80\n",
      "People with the 3rd draft pick finished with an average league position of 5.5 out of 10 and an overall rank of 32.5 out of 80\n",
      "People with the 4th draft pick finished with an average league position of 6.0 out of 10 and an overall rank of 42.375 out of 80\n",
      "People with the 5th draft pick finished with an average league position of 6.125 out of 10 and an overall rank of 41.5 out of 80\n",
      "People with the 6th draft pick finished with an average league position of 5.0 out of 10 and an overall rank of 44.5 out of 80\n",
      "People with the 7th draft pick finished with an average league position of 4.875 out of 10 and an overall rank of 36.875 out of 80\n",
      "People with the 8th draft pick finished with an average league position of 5.25 out of 10 and an overall rank of 46.125 out of 80\n",
      "People with the 9th draft pick finished with an average league position of 5.25 out of 10 and an overall rank of 39.375 out of 80\n",
      "People with the 10th draft pick finished with an average league position of 4.25 out of 10 and an overall rank of 29.25 out of 80\n"
     ]
    }
   ],
   "source": [
    "ordinal = lambda n: \"%d%s\" % (n,\"tsnrhtdd\"[(n//10%10!=1)*(n%10<4)*n%10::4])\n",
    "for i in range(1,11):\n",
    "    total_players = df.shape[0]\n",
    "    df1 = df[df[\"Draft Position\"]==i]\n",
    "    df1[\"Overall Rank\"] = df1.index\n",
    "    league_ave = df1[\"League Rank\"].mean()\n",
    "    overall_ave = df1[\"Overall Rank\"].mean()\n",
    "    print(f\"People with the {ordinal(i)} draft pick finished with an average league position of {league_ave} out of 10 and an overall rank of {overall_ave} out of {total_players}\")"
   ]
  },
  {
   "cell_type": "markdown",
   "id": "a97b3b89",
   "metadata": {},
   "source": [
    "Looks like last pick in the draft is actually pretty decent. Also sample size of 8 per draft position is robust as long as you don't think about it too much."
   ]
  },
  {
   "cell_type": "code",
   "execution_count": null,
   "id": "7d6bcafb",
   "metadata": {},
   "outputs": [],
   "source": []
  }
 ],
 "metadata": {
  "kernelspec": {
   "display_name": "Python 3 (ipykernel)",
   "language": "python",
   "name": "python3"
  },
  "language_info": {
   "codemirror_mode": {
    "name": "ipython",
    "version": 3
   },
   "file_extension": ".py",
   "mimetype": "text/x-python",
   "name": "python",
   "nbconvert_exporter": "python",
   "pygments_lexer": "ipython3",
   "version": "3.9.12"
  }
 },
 "nbformat": 4,
 "nbformat_minor": 5
}
